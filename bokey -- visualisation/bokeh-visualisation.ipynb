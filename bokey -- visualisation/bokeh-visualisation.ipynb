{
 "cells": [
  {
   "cell_type": "code",
   "execution_count": 1,
   "id": "bed8394e",
   "metadata": {},
   "outputs": [
    {
     "name": "stdout",
     "output_type": "stream",
     "text": [
      "Requirement already satisfied: bokeh in c:\\users\\chand\\anaconda3\\lib\\site-packages (2.4.3)\n",
      "Requirement already satisfied: packaging>=16.8 in c:\\users\\chand\\anaconda3\\lib\\site-packages (from bokeh) (22.0)\n",
      "Requirement already satisfied: PyYAML>=3.10 in c:\\users\\chand\\anaconda3\\lib\\site-packages (from bokeh) (6.0)\n",
      "Requirement already satisfied: tornado>=5.1 in c:\\users\\chand\\anaconda3\\lib\\site-packages (from bokeh) (6.1)\n",
      "Requirement already satisfied: numpy>=1.11.3 in c:\\users\\chand\\anaconda3\\lib\\site-packages (from bokeh) (1.23.5)\n",
      "Requirement already satisfied: pillow>=7.1.0 in c:\\users\\chand\\anaconda3\\lib\\site-packages (from bokeh) (9.4.0)\n",
      "Requirement already satisfied: typing-extensions>=3.10.0 in c:\\users\\chand\\anaconda3\\lib\\site-packages (from bokeh) (4.4.0)\n",
      "Requirement already satisfied: Jinja2>=2.9 in c:\\users\\chand\\anaconda3\\lib\\site-packages (from bokeh) (3.1.2)\n",
      "Requirement already satisfied: MarkupSafe>=2.0 in c:\\users\\chand\\anaconda3\\lib\\site-packages (from Jinja2>=2.9->bokeh) (2.1.1)\n",
      "Note: you may need to restart the kernel to use updated packages.\n"
     ]
    }
   ],
   "source": [
    "pip install bokeh\n"
   ]
  },
  {
   "cell_type": "code",
   "execution_count": 2,
   "id": "1795c6d9",
   "metadata": {},
   "outputs": [],
   "source": [
    "import bokeh.io"
   ]
  },
  {
   "cell_type": "code",
   "execution_count": 3,
   "id": "c3ae05a8",
   "metadata": {},
   "outputs": [],
   "source": [
    "import bokeh.plotting"
   ]
  },
  {
   "cell_type": "code",
   "execution_count": 8,
   "id": "dee7befc",
   "metadata": {},
   "outputs": [],
   "source": [
    "from bokeh.io import output_notebook"
   ]
  },
  {
   "cell_type": "code",
   "execution_count": 10,
   "id": "c2d4801e",
   "metadata": {},
   "outputs": [],
   "source": [
    "from bokeh.plotting import figure,output_file,show"
   ]
  },
  {
   "cell_type": "code",
   "execution_count": 12,
   "id": "08594294",
   "metadata": {},
   "outputs": [],
   "source": [
    "from bokeh.sampledata.iris import flowers"
   ]
  },
  {
   "cell_type": "code",
   "execution_count": 13,
   "id": "c2afcaec",
   "metadata": {},
   "outputs": [
    {
     "data": {
      "text/html": [
       "<div>\n",
       "<style scoped>\n",
       "    .dataframe tbody tr th:only-of-type {\n",
       "        vertical-align: middle;\n",
       "    }\n",
       "\n",
       "    .dataframe tbody tr th {\n",
       "        vertical-align: top;\n",
       "    }\n",
       "\n",
       "    .dataframe thead th {\n",
       "        text-align: right;\n",
       "    }\n",
       "</style>\n",
       "<table border=\"1\" class=\"dataframe\">\n",
       "  <thead>\n",
       "    <tr style=\"text-align: right;\">\n",
       "      <th></th>\n",
       "      <th>sepal_length</th>\n",
       "      <th>sepal_width</th>\n",
       "      <th>petal_length</th>\n",
       "      <th>petal_width</th>\n",
       "      <th>species</th>\n",
       "    </tr>\n",
       "  </thead>\n",
       "  <tbody>\n",
       "    <tr>\n",
       "      <th>0</th>\n",
       "      <td>5.1</td>\n",
       "      <td>3.5</td>\n",
       "      <td>1.4</td>\n",
       "      <td>0.2</td>\n",
       "      <td>setosa</td>\n",
       "    </tr>\n",
       "    <tr>\n",
       "      <th>1</th>\n",
       "      <td>4.9</td>\n",
       "      <td>3.0</td>\n",
       "      <td>1.4</td>\n",
       "      <td>0.2</td>\n",
       "      <td>setosa</td>\n",
       "    </tr>\n",
       "    <tr>\n",
       "      <th>2</th>\n",
       "      <td>4.7</td>\n",
       "      <td>3.2</td>\n",
       "      <td>1.3</td>\n",
       "      <td>0.2</td>\n",
       "      <td>setosa</td>\n",
       "    </tr>\n",
       "    <tr>\n",
       "      <th>3</th>\n",
       "      <td>4.6</td>\n",
       "      <td>3.1</td>\n",
       "      <td>1.5</td>\n",
       "      <td>0.2</td>\n",
       "      <td>setosa</td>\n",
       "    </tr>\n",
       "    <tr>\n",
       "      <th>4</th>\n",
       "      <td>5.0</td>\n",
       "      <td>3.6</td>\n",
       "      <td>1.4</td>\n",
       "      <td>0.2</td>\n",
       "      <td>setosa</td>\n",
       "    </tr>\n",
       "    <tr>\n",
       "      <th>...</th>\n",
       "      <td>...</td>\n",
       "      <td>...</td>\n",
       "      <td>...</td>\n",
       "      <td>...</td>\n",
       "      <td>...</td>\n",
       "    </tr>\n",
       "    <tr>\n",
       "      <th>145</th>\n",
       "      <td>6.7</td>\n",
       "      <td>3.0</td>\n",
       "      <td>5.2</td>\n",
       "      <td>2.3</td>\n",
       "      <td>virginica</td>\n",
       "    </tr>\n",
       "    <tr>\n",
       "      <th>146</th>\n",
       "      <td>6.3</td>\n",
       "      <td>2.5</td>\n",
       "      <td>5.0</td>\n",
       "      <td>1.9</td>\n",
       "      <td>virginica</td>\n",
       "    </tr>\n",
       "    <tr>\n",
       "      <th>147</th>\n",
       "      <td>6.5</td>\n",
       "      <td>3.0</td>\n",
       "      <td>5.2</td>\n",
       "      <td>2.0</td>\n",
       "      <td>virginica</td>\n",
       "    </tr>\n",
       "    <tr>\n",
       "      <th>148</th>\n",
       "      <td>6.2</td>\n",
       "      <td>3.4</td>\n",
       "      <td>5.4</td>\n",
       "      <td>2.3</td>\n",
       "      <td>virginica</td>\n",
       "    </tr>\n",
       "    <tr>\n",
       "      <th>149</th>\n",
       "      <td>5.9</td>\n",
       "      <td>3.0</td>\n",
       "      <td>5.1</td>\n",
       "      <td>1.8</td>\n",
       "      <td>virginica</td>\n",
       "    </tr>\n",
       "  </tbody>\n",
       "</table>\n",
       "<p>150 rows × 5 columns</p>\n",
       "</div>"
      ],
      "text/plain": [
       "     sepal_length  sepal_width  petal_length  petal_width    species\n",
       "0             5.1          3.5           1.4          0.2     setosa\n",
       "1             4.9          3.0           1.4          0.2     setosa\n",
       "2             4.7          3.2           1.3          0.2     setosa\n",
       "3             4.6          3.1           1.5          0.2     setosa\n",
       "4             5.0          3.6           1.4          0.2     setosa\n",
       "..            ...          ...           ...          ...        ...\n",
       "145           6.7          3.0           5.2          2.3  virginica\n",
       "146           6.3          2.5           5.0          1.9  virginica\n",
       "147           6.5          3.0           5.2          2.0  virginica\n",
       "148           6.2          3.4           5.4          2.3  virginica\n",
       "149           5.9          3.0           5.1          1.8  virginica\n",
       "\n",
       "[150 rows x 5 columns]"
      ]
     },
     "execution_count": 13,
     "metadata": {},
     "output_type": "execute_result"
    }
   ],
   "source": [
    "flowers"
   ]
  },
  {
   "cell_type": "code",
   "execution_count": 16,
   "id": "517932b4",
   "metadata": {},
   "outputs": [],
   "source": [
    "output_file('test.html')\n",
    "p=figure(title='test flower')\n",
    "p.xaxis.axis_label='petal_length'\n",
    "p.yaxis.axis_label='petal_width'\n",
    "p.circle(flowers['petal_length'],flowers['petal_width'])\n",
    "show(p)"
   ]
  },
  {
   "cell_type": "code",
   "execution_count": 17,
   "id": "fb5d106e",
   "metadata": {},
   "outputs": [],
   "source": [
    "output_file('test.html')\n",
    "p=figure(title='test flower')\n",
    "p.xaxis.axis_label='petal_length'\n",
    "p.yaxis.axis_label='petal_width'\n",
    "p.line(flowers['petal_length'],flowers['petal_width'])\n",
    "show(p)"
   ]
  },
  {
   "cell_type": "code",
   "execution_count": 18,
   "id": "8fa50ff0",
   "metadata": {},
   "outputs": [],
   "source": [
    "x=[1,2,3,4,5,6,6,3]\n",
    "y=[3,4,5,7,7,5,4,4]\n",
    "output_file=('line.html')\n",
    "p=figure(title='line graph')\n",
    "p.line(x,y)\n",
    "show(p)"
   ]
  },
  {
   "cell_type": "code",
   "execution_count": 19,
   "id": "a081351b",
   "metadata": {},
   "outputs": [],
   "source": [
    "x=[1,2,3,4,5,6,6,3]\n",
    "y=[3,4,5,7,7,5,4,4]\n",
    "output_file=('line.html')\n",
    "p=figure(title='line graph')\n",
    "p.circle(x,y)\n",
    "show(p)"
   ]
  },
  {
   "cell_type": "code",
   "execution_count": 24,
   "id": "8e7e2d98",
   "metadata": {},
   "outputs": [],
   "source": [
    "x=[1,2,3,4,5,6,6,3]\n",
    "y=[3,4,5,7,7,5,4,4]\n",
    "output_file=('line.html')\n",
    "p=figure(title='line graph')\n",
    "p.square(x,y,size=10)\n",
    "show(p)"
   ]
  },
  {
   "cell_type": "code",
   "execution_count": 23,
   "id": "ca179db9",
   "metadata": {},
   "outputs": [],
   "source": [
    "x=[1,2,3,4,5,6,6,3]\n",
    "y=[3,4,5,7,7,5,4,4]\n",
    "output_file=('line.html')\n",
    "p=figure(title='line graph')\n",
    "p.triangle(x,y,size=20)\n",
    "show(p)"
   ]
  },
  {
   "cell_type": "code",
   "execution_count": 25,
   "id": "4b94b234",
   "metadata": {},
   "outputs": [],
   "source": [
    "x=[1,2,3,4,5,6,6,3]\n",
    "y=[3,4,5,7,7,5,4,4]\n",
    "output_file=('line.html')\n",
    "p=figure(title='line graph')\n",
    "p.triangle(x,y,size=30,fill_color='green',legend_label='this is my triangle points')\n",
    "show(p)"
   ]
  },
  {
   "cell_type": "code",
   "execution_count": null,
   "id": "bb9f473a",
   "metadata": {},
   "outputs": [],
   "source": []
  }
 ],
 "metadata": {
  "kernelspec": {
   "display_name": "Python 3 (ipykernel)",
   "language": "python",
   "name": "python3"
  },
  "language_info": {
   "codemirror_mode": {
    "name": "ipython",
    "version": 3
   },
   "file_extension": ".py",
   "mimetype": "text/x-python",
   "name": "python",
   "nbconvert_exporter": "python",
   "pygments_lexer": "ipython3",
   "version": "3.10.9"
  }
 },
 "nbformat": 4,
 "nbformat_minor": 5
}
